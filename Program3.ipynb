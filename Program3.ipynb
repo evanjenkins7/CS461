{
  "nbformat": 4,
  "nbformat_minor": 0,
  "metadata": {
    "colab": {
      "name": "Program3.ipynb",
      "provenance": [],
      "collapsed_sections": [],
      "authorship_tag": "ABX9TyOMSYHN4eLq0SLJkUVCmSjF",
      "include_colab_link": true
    },
    "kernelspec": {
      "name": "python3",
      "display_name": "Python 3"
    },
    "language_info": {
      "name": "python"
    }
  },
  "cells": [
    {
      "cell_type": "markdown",
      "metadata": {
        "id": "view-in-github",
        "colab_type": "text"
      },
      "source": [
        "<a href=\"https://colab.research.google.com/github/evanjenkins7/CS461/blob/main/Program3.ipynb\" target=\"_parent\"><img src=\"https://colab.research.google.com/assets/colab-badge.svg\" alt=\"Open In Colab\"/></a>"
      ]
    },
    {
      "cell_type": "code",
      "metadata": {
        "id": "3LP6Z9rfjpmN",
        "colab": {
          "base_uri": "https://localhost:8080/",
          "height": 283
        },
        "outputId": "a3c397be-f028-40f2-f327-66e9b08c8870"
      },
      "source": [
        "import matplotlib.pyplot as plt\n",
        "import numpy as np\n",
        "import pandas as pd\n",
        "import io\n",
        "import seaborn as sns\n",
        "\n",
        "# Make NumPy printouts easier to read.\n",
        "np.set_printoptions(precision=3, suppress=True)\n",
        "\n",
        "import tensorflow as tf\n",
        "\n",
        "from tensorflow import keras\n",
        "from tensorflow.keras import layers\n",
        "from keras.models import Sequential\n",
        "from keras.layers import Dense\n",
        "\n",
        "#*****Uncomment to get open file menu for upload*****\n",
        "#from google.colab import files \n",
        "#uploaded = files.upload()\n",
        "\n",
        "\n",
        "#create dataset from CSV input\n",
        "dataset = pd.read_csv(io.BytesIO(uploaded['StudentsPerformance.csv']))\n",
        "dataset.head()\n",
        "\n",
        "#one-hot code non-numerical values\n",
        "dataset = pd.get_dummies(dataset, columns=['gender', 'race/ethnicity','parental level of education', 'lunch', 'test preparation course'])\n",
        "dataset.tail()\n",
        "\n",
        "#separate dataset into 70/15/15 for Train/Test/Validation\n",
        "train_dataset = dataset.sample(frac=0.7, random_state=69)\n",
        "rest = dataset.drop(train_dataset.index)\n",
        "test_dataset = rest.sample(frac=0.5, random_state=69)\n",
        "validation_dataset = rest.drop(test_dataset.index)\n",
        "\n",
        "#isolate input and output data into features and labels accordingly\n",
        "train_features = train_dataset.copy()\n",
        "test_features = test_dataset.copy()\n",
        "validation_features = validation_dataset.copy()\n",
        "\n",
        "math_score = train_features.pop('math score')\n",
        "reading_score = train_features.pop('reading score')\n",
        "writing_score = train_features.pop('writing score')\n",
        "train_labels = np.array([math_score, reading_score, writing_score]).transpose()\n",
        "\n",
        "math_score = test_features.pop('math score')\n",
        "reading_score = test_features.pop('reading score')\n",
        "writing_score = test_features.pop('writing score')\n",
        "test_labels = np.array([math_score, reading_score, writing_score]).transpose()\n",
        "\n",
        "math_score = validation_features.pop('math score')\n",
        "reading_score = validation_features.pop('reading score')\n",
        "writing_score = validation_features.pop('writing score')\n",
        "validation_labels = np.array([math_score, reading_score, writing_score]).transpose()\n",
        "\n",
        "#generate normalizer layer\n",
        "normalizer = tf.keras.layers.Normalization(axis=-1)\n",
        "normalizer.adapt(np.array(train_features))\n",
        "\n",
        "#get model function to create model\n",
        "def get_model(normalizer):\n",
        "    model = keras.Sequential(\n",
        "    [\n",
        "      normalizer,\n",
        "      layers.Dense(64, activation=\"relu\"),\n",
        "      layers.Dense(64, activation=\"relu\"),\n",
        "      layers.Dense(3, activation=\"relu\"),\n",
        "    ])\n",
        "    model.compile(loss='mae', optimizer=tf.optimizers.Adam(learning_rate=0.001))\n",
        "    return model\n",
        "\n",
        "#creation of model\n",
        "model = get_model(normalizer)\n",
        "\n",
        "#train model\n",
        "history = model.fit(\n",
        "    train_features,\n",
        "    train_labels,\n",
        "    validation_data=(validation_features, validation_labels),\n",
        "    epochs=100,\n",
        "    verbose=0)\n",
        "\n",
        "#evaluate mean average error and predictions\n",
        "mae = model.evaluate(test_features, test_labels, verbose=0)\n",
        "test_predictions = model.predict(test_features)\n",
        "\n",
        "a = plt.axes(aspect='equal')\n",
        "plt.scatter(test_labels.transpose()[0], test_predictions.transpose()[0])\n",
        "plt.scatter(test_labels.transpose()[1], test_predictions.transpose()[1])\n",
        "plt.scatter(test_labels.transpose()[2], test_predictions.transpose()[2])\n",
        "plt.xlabel('True Values')\n",
        "plt.ylabel('Predictions')\n",
        "lims = [0, 100]\n",
        "plt.xlim(lims)\n",
        "plt.ylim(lims)\n",
        "_ = plt.plot(lims, lims)\n"
      ],
      "execution_count": null,
      "outputs": [
        {
          "output_type": "display_data",
          "data": {
            "image/png": "[encoded data removed]",
            "text/plain": [
              "<Figure size 432x288 with 1 Axes>"
            ]
          },
          "metadata": {
            "needs_background": "light"
          }
        }
      ]
    }
  ]
}