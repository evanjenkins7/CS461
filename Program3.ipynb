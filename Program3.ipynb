{
  "nbformat": 4,
  "nbformat_minor": 0,
  "metadata": {
    "colab": {
      "name": "Program3.ipynb",
      "provenance": [],
      "collapsed_sections": [],
      "authorship_tag": "ABX9TyPKXCT3Pf9AHkRU6Ubienj6",
      "include_colab_link": true
    },
    "kernelspec": {
      "name": "python3",
      "display_name": "Python 3"
    },
    "language_info": {
      "name": "python"
    }
  },
  "cells": [
    {
      "cell_type": "markdown",
      "metadata": {
        "id": "view-in-github",
        "colab_type": "text"
      },
      "source": [
        "<a href=\"https://colab.research.google.com/github/evanjenkins7/CS461/blob/main/Program3.ipynb\" target=\"_parent\"><img src=\"https://colab.research.google.com/assets/colab-badge.svg\" alt=\"Open In Colab\"/></a>"
      ]
    },
    {
      "cell_type": "code",
      "metadata": {
        "id": "DRJyARP4WnQd"
      },
      "source": [
        "import matplotlib.pyplot as plt\n",
        "import numpy as np\n",
        "import pandas as pd\n",
        "import io\n",
        "import seaborn as sns\n",
        "\n",
        "# Make NumPy printouts easier to read.\n",
        "np.set_printoptions(precision=3, suppress=True)\n",
        "\n",
        "import tensorflow as tf\n",
        "\n",
        "from tensorflow import keras\n",
        "from tensorflow.keras import layers\n",
        "from keras.models import Sequential\n",
        "from keras.layers import Dense"
      ],
      "execution_count": 134,
      "outputs": []
    },
    {
      "cell_type": "code",
      "metadata": {
        "id": "rW5qkUMhWnO7"
      },
      "source": [
        "#***************Uncomment to upload CSV file from computer*****************\n",
        "#from google.colab import files \n",
        "#uploaded = files.upload()\n"
      ],
      "execution_count": 135,
      "outputs": []
    },
    {
      "cell_type": "code",
      "metadata": {
        "colab": {
          "base_uri": "https://localhost:8080/",
          "height": 278
        },
        "id": "grWUqwrBWnMH",
        "outputId": "7407da2a-e515-41a5-91ca-9cc5408e3fff"
      },
      "source": [
        "#create dataset from CSV input\n",
        "dataset = pd.read_csv(io.BytesIO(uploaded['StudentsPerformance.csv']))\n",
        "dataset.head()\n",
        "#one-hot code non-numerical values\n",
        "dataset = pd.get_dummies(dataset, columns=['gender', 'race/ethnicity','parental level of education', 'lunch', 'test preparation course'])\n",
        "dataset.head()\n"
      ],
      "execution_count": 136,
      "outputs": [
        {
          "output_type": "execute_result",
          "data": {
            "text/html": [
              "<div>\n",
              "<style scoped>\n",
              "    .dataframe tbody tr th:only-of-type {\n",
              "        vertical-align: middle;\n",
              "    }\n",
              "\n",
              "    .dataframe tbody tr th {\n",
              "        vertical-align: top;\n",
              "    }\n",
              "\n",
              "    .dataframe thead th {\n",
              "        text-align: right;\n",
              "    }\n",
              "</style>\n",
              "<table border=\"1\" class=\"dataframe\">\n",
              "  <thead>\n",
              "    <tr style=\"text-align: right;\">\n",
              "      <th></th>\n",
              "      <th>math score</th>\n",
              "      <th>reading score</th>\n",
              "      <th>writing score</th>\n",
              "      <th>gender_female</th>\n",
              "      <th>gender_male</th>\n",
              "      <th>race/ethnicity_group A</th>\n",
              "      <th>race/ethnicity_group B</th>\n",
              "      <th>race/ethnicity_group C</th>\n",
              "      <th>race/ethnicity_group D</th>\n",
              "      <th>race/ethnicity_group E</th>\n",
              "      <th>parental level of education_associate's degree</th>\n",
              "      <th>parental level of education_bachelor's degree</th>\n",
              "      <th>parental level of education_high school</th>\n",
              "      <th>parental level of education_master's degree</th>\n",
              "      <th>parental level of education_some college</th>\n",
              "      <th>parental level of education_some high school</th>\n",
              "      <th>lunch_free/reduced</th>\n",
              "      <th>lunch_standard</th>\n",
              "      <th>test preparation course_completed</th>\n",
              "      <th>test preparation course_none</th>\n",
              "    </tr>\n",
              "  </thead>\n",
              "  <tbody>\n",
              "    <tr>\n",
              "      <th>0</th>\n",
              "      <td>72</td>\n",
              "      <td>72</td>\n",
              "      <td>74</td>\n",
              "      <td>1</td>\n",
              "      <td>0</td>\n",
              "      <td>0</td>\n",
              "      <td>1</td>\n",
              "      <td>0</td>\n",
              "      <td>0</td>\n",
              "      <td>0</td>\n",
              "      <td>0</td>\n",
              "      <td>1</td>\n",
              "      <td>0</td>\n",
              "      <td>0</td>\n",
              "      <td>0</td>\n",
              "      <td>0</td>\n",
              "      <td>0</td>\n",
              "      <td>1</td>\n",
              "      <td>0</td>\n",
              "      <td>1</td>\n",
              "    </tr>\n",
              "    <tr>\n",
              "      <th>1</th>\n",
              "      <td>69</td>\n",
              "      <td>90</td>\n",
              "      <td>88</td>\n",
              "      <td>1</td>\n",
              "      <td>0</td>\n",
              "      <td>0</td>\n",
              "      <td>0</td>\n",
              "      <td>1</td>\n",
              "      <td>0</td>\n",
              "      <td>0</td>\n",
              "      <td>0</td>\n",
              "      <td>0</td>\n",
              "      <td>0</td>\n",
              "      <td>0</td>\n",
              "      <td>1</td>\n",
              "      <td>0</td>\n",
              "      <td>0</td>\n",
              "      <td>1</td>\n",
              "      <td>1</td>\n",
              "      <td>0</td>\n",
              "    </tr>\n",
              "    <tr>\n",
              "      <th>2</th>\n",
              "      <td>90</td>\n",
              "      <td>95</td>\n",
              "      <td>93</td>\n",
              "      <td>1</td>\n",
              "      <td>0</td>\n",
              "      <td>0</td>\n",
              "      <td>1</td>\n",
              "      <td>0</td>\n",
              "      <td>0</td>\n",
              "      <td>0</td>\n",
              "      <td>0</td>\n",
              "      <td>0</td>\n",
              "      <td>0</td>\n",
              "      <td>1</td>\n",
              "      <td>0</td>\n",
              "      <td>0</td>\n",
              "      <td>0</td>\n",
              "      <td>1</td>\n",
              "      <td>0</td>\n",
              "      <td>1</td>\n",
              "    </tr>\n",
              "    <tr>\n",
              "      <th>3</th>\n",
              "      <td>47</td>\n",
              "      <td>57</td>\n",
              "      <td>44</td>\n",
              "      <td>0</td>\n",
              "      <td>1</td>\n",
              "      <td>1</td>\n",
              "      <td>0</td>\n",
              "      <td>0</td>\n",
              "      <td>0</td>\n",
              "      <td>0</td>\n",
              "      <td>1</td>\n",
              "      <td>0</td>\n",
              "      <td>0</td>\n",
              "      <td>0</td>\n",
              "      <td>0</td>\n",
              "      <td>0</td>\n",
              "      <td>1</td>\n",
              "      <td>0</td>\n",
              "      <td>0</td>\n",
              "      <td>1</td>\n",
              "    </tr>\n",
              "    <tr>\n",
              "      <th>4</th>\n",
              "      <td>76</td>\n",
              "      <td>78</td>\n",
              "      <td>75</td>\n",
              "      <td>0</td>\n",
              "      <td>1</td>\n",
              "      <td>0</td>\n",
              "      <td>0</td>\n",
              "      <td>1</td>\n",
              "      <td>0</td>\n",
              "      <td>0</td>\n",
              "      <td>0</td>\n",
              "      <td>0</td>\n",
              "      <td>0</td>\n",
              "      <td>0</td>\n",
              "      <td>1</td>\n",
              "      <td>0</td>\n",
              "      <td>0</td>\n",
              "      <td>1</td>\n",
              "      <td>0</td>\n",
              "      <td>1</td>\n",
              "    </tr>\n",
              "  </tbody>\n",
              "</table>\n",
              "</div>"
            ],
            "text/plain": [
              "   math score  ...  test preparation course_none\n",
              "0          72  ...                             1\n",
              "1          69  ...                             0\n",
              "2          90  ...                             1\n",
              "3          47  ...                             1\n",
              "4          76  ...                             1\n",
              "\n",
              "[5 rows x 20 columns]"
            ]
          },
          "metadata": {},
          "execution_count": 136
        }
      ]
    },
    {
      "cell_type": "code",
      "metadata": {
        "id": "j3D5ElmeWnFV"
      },
      "source": [
        "#separate dataset into 70/15/15 for Train/Test/Validation\n",
        "train_dataset = dataset.sample(frac=0.7, random_state=42)\n",
        "rest = dataset.drop(train_dataset.index)\n",
        "test_dataset = rest.sample(frac=0.5, random_state=42)\n",
        "validation_dataset = rest.drop(test_dataset.index)"
      ],
      "execution_count": 137,
      "outputs": []
    },
    {
      "cell_type": "code",
      "metadata": {
        "id": "IRdoIzNoWm9P"
      },
      "source": [
        "#isolate input and output data into features and labels accordingly\n",
        "train_features = train_dataset.copy()\n",
        "test_features = test_dataset.copy()\n",
        "validation_features = validation_dataset.copy()\n",
        "\n",
        "math_score = train_features.pop('math score')\n",
        "reading_score = train_features.pop('reading score')\n",
        "writing_score = train_features.pop('writing score')\n",
        "train_labels = np.array([math_score, reading_score, writing_score]).transpose()\n",
        "\n",
        "math_score = test_features.pop('math score')\n",
        "reading_score = test_features.pop('reading score')\n",
        "writing_score = test_features.pop('writing score')\n",
        "test_labels = np.array([math_score, reading_score, writing_score]).transpose()\n",
        "\n",
        "math_score = validation_features.pop('math score')\n",
        "reading_score = validation_features.pop('reading score')\n",
        "writing_score = validation_features.pop('writing score')\n",
        "validation_labels = np.array([math_score, reading_score, writing_score]).transpose()"
      ],
      "execution_count": 138,
      "outputs": []
    },
    {
      "cell_type": "code",
      "metadata": {
        "id": "Pi72QltcWeNU"
      },
      "source": [
        "#generate normalizer layer\n",
        "normalizer = tf.keras.layers.Normalization(axis=-1)\n",
        "normalizer.adapt(np.array(train_features))"
      ],
      "execution_count": 139,
      "outputs": []
    },
    {
      "cell_type": "code",
      "metadata": {
        "id": "xQ6nDnC4WeHk"
      },
      "source": [
        "#get model function to create model\n",
        "def get_model(normalizer):\n",
        "    model = keras.Sequential(\n",
        "    [\n",
        "      normalizer,\n",
        "      layers.Dense(64, activation=\"relu\"),\n",
        "      layers.Dense(64, activation=\"relu\"),\n",
        "      layers.Dense(3, activation=\"relu\"),\n",
        "    ])\n",
        "    model.compile(loss='mae', optimizer=tf.optimizers.Adam(learning_rate=0.001))\n",
        "    return model"
      ],
      "execution_count": 140,
      "outputs": []
    },
    {
      "cell_type": "code",
      "metadata": {
        "colab": {
          "base_uri": "https://localhost:8080/"
        },
        "id": "WZDPbUP5Wd7v",
        "outputId": "22556d04-470b-4226-cb58-71225e68d14a"
      },
      "source": [
        "#creation of model\n",
        "model = get_model(normalizer)\n",
        "\n",
        "#train model\n",
        "history = model.fit(\n",
        "    train_features,\n",
        "    train_labels,\n",
        "    validation_data=(validation_features, validation_labels),\n",
        "    epochs=100,\n",
        "    verbose=0)\n",
        "\n",
        "history.history"
      ],
      "execution_count": 128,
      "outputs": [
        {
          "output_type": "execute_result",
          "data": {
            "text/plain": [
              "{'loss': [66.69873046875,\n",
              "  64.34767150878906,\n",
              "  59.773536682128906,\n",
              "  51.159889221191406,\n",
              "  36.555259704589844,\n",
              "  19.961669921875,\n",
              "  13.230052947998047,\n",
              "  11.473273277282715,\n",
              "  11.027070045471191,\n",
              "  10.877969741821289,\n",
              "  10.668386459350586,\n",
              "  10.507009506225586,\n",
              "  10.412358283996582,\n",
              "  10.317326545715332,\n",
              "  10.212879180908203,\n",
              "  10.155531883239746,\n",
              "  10.135408401489258,\n",
              "  10.085312843322754,\n",
              "  10.003496170043945,\n",
              "  9.971948623657227,\n",
              "  9.968310356140137,\n",
              "  9.850655555725098,\n",
              "  9.873536109924316,\n",
              "  9.857093811035156,\n",
              "  9.89331340789795,\n",
              "  9.78876781463623,\n",
              "  9.739961624145508,\n",
              "  9.721175193786621,\n",
              "  9.716081619262695,\n",
              "  9.660445213317871,\n",
              "  9.673559188842773,\n",
              "  9.662702560424805,\n",
              "  9.644624710083008,\n",
              "  9.593411445617676,\n",
              "  9.583780288696289,\n",
              "  9.56384563446045,\n",
              "  9.57043170928955,\n",
              "  9.50808048248291,\n",
              "  9.528499603271484,\n",
              "  9.501612663269043,\n",
              "  9.508493423461914,\n",
              "  9.47077751159668,\n",
              "  9.506548881530762,\n",
              "  9.43752670288086,\n",
              "  9.436372756958008,\n",
              "  9.478501319885254,\n",
              "  9.410124778747559,\n",
              "  9.45048713684082,\n",
              "  9.39059066772461,\n",
              "  9.378252983093262,\n",
              "  9.361605644226074,\n",
              "  9.361632347106934,\n",
              "  9.351264953613281,\n",
              "  9.374378204345703,\n",
              "  9.349169731140137,\n",
              "  9.33870792388916,\n",
              "  9.279597282409668,\n",
              "  9.299880981445312,\n",
              "  9.30939769744873,\n",
              "  9.273122787475586,\n",
              "  9.311521530151367,\n",
              "  9.262592315673828,\n",
              "  9.236778259277344,\n",
              "  9.227818489074707,\n",
              "  9.227158546447754,\n",
              "  9.230320930480957,\n",
              "  9.22867488861084,\n",
              "  9.193843841552734,\n",
              "  9.190435409545898,\n",
              "  9.168841361999512,\n",
              "  9.161754608154297,\n",
              "  9.161757469177246,\n",
              "  9.13858699798584,\n",
              "  9.15194034576416,\n",
              "  9.12137222290039,\n",
              "  9.107173919677734,\n",
              "  9.167983055114746,\n",
              "  9.123810768127441,\n",
              "  9.09550952911377,\n",
              "  9.177852630615234,\n",
              "  9.113053321838379,\n",
              "  9.166345596313477,\n",
              "  9.065363883972168,\n",
              "  9.07153606414795,\n",
              "  9.053885459899902,\n",
              "  9.041016578674316,\n",
              "  9.030850410461426,\n",
              "  9.159863471984863,\n",
              "  9.080971717834473,\n",
              "  9.045896530151367,\n",
              "  9.01496410369873,\n",
              "  9.024227142333984,\n",
              "  9.03031063079834,\n",
              "  9.067822456359863,\n",
              "  9.006305694580078,\n",
              "  8.993313789367676,\n",
              "  9.005626678466797,\n",
              "  8.992937088012695,\n",
              "  8.962376594543457,\n",
              "  9.02223014831543],\n",
              " 'val_loss': [65.90303039550781,\n",
              "  62.678077697753906,\n",
              "  56.375064849853516,\n",
              "  44.98094940185547,\n",
              "  27.685749053955078,\n",
              "  14.982502937316895,\n",
              "  12.449867248535156,\n",
              "  12.070966720581055,\n",
              "  11.917006492614746,\n",
              "  11.781420707702637,\n",
              "  11.635462760925293,\n",
              "  11.568803787231445,\n",
              "  11.50466537475586,\n",
              "  11.467446327209473,\n",
              "  11.341584205627441,\n",
              "  11.2980375289917,\n",
              "  11.241865158081055,\n",
              "  11.284402847290039,\n",
              "  11.202412605285645,\n",
              "  11.23279094696045,\n",
              "  11.203723907470703,\n",
              "  11.152459144592285,\n",
              "  11.15233039855957,\n",
              "  11.1216459274292,\n",
              "  11.173907279968262,\n",
              "  11.165159225463867,\n",
              "  11.124934196472168,\n",
              "  11.13841438293457,\n",
              "  11.141590118408203,\n",
              "  11.118643760681152,\n",
              "  11.115787506103516,\n",
              "  11.180373191833496,\n",
              "  11.123282432556152,\n",
              "  11.139572143554688,\n",
              "  11.119048118591309,\n",
              "  11.118306159973145,\n",
              "  11.117507934570312,\n",
              "  11.152811050415039,\n",
              "  11.143540382385254,\n",
              "  11.14564323425293,\n",
              "  11.120148658752441,\n",
              "  11.179070472717285,\n",
              "  11.13047981262207,\n",
              "  11.120564460754395,\n",
              "  11.196300506591797,\n",
              "  11.147541046142578,\n",
              "  11.164212226867676,\n",
              "  11.137953758239746,\n",
              "  11.164531707763672,\n",
              "  11.221048355102539,\n",
              "  11.175896644592285,\n",
              "  11.193809509277344,\n",
              "  11.214157104492188,\n",
              "  11.273690223693848,\n",
              "  11.229805946350098,\n",
              "  11.248848915100098,\n",
              "  11.251058578491211,\n",
              "  11.2388334274292,\n",
              "  11.263680458068848,\n",
              "  11.242744445800781,\n",
              "  11.28030776977539,\n",
              "  11.279277801513672,\n",
              "  11.276291847229004,\n",
              "  11.277429580688477,\n",
              "  11.310136795043945,\n",
              "  11.295212745666504,\n",
              "  11.287506103515625,\n",
              "  11.307190895080566,\n",
              "  11.298807144165039,\n",
              "  11.37277603149414,\n",
              "  11.352924346923828,\n",
              "  11.348212242126465,\n",
              "  11.37443733215332,\n",
              "  11.369770050048828,\n",
              "  11.364587783813477,\n",
              "  11.40164566040039,\n",
              "  11.37453842163086,\n",
              "  11.423076629638672,\n",
              "  11.375812530517578,\n",
              "  11.383813858032227,\n",
              "  11.4600248336792,\n",
              "  11.433069229125977,\n",
              "  11.415766716003418,\n",
              "  11.443922996520996,\n",
              "  11.431998252868652,\n",
              "  11.47982406616211,\n",
              "  11.53296184539795,\n",
              "  11.502697944641113,\n",
              "  11.486041069030762,\n",
              "  11.514643669128418,\n",
              "  11.458914756774902,\n",
              "  11.501440048217773,\n",
              "  11.574873924255371,\n",
              "  11.544638633728027,\n",
              "  11.55303955078125,\n",
              "  11.538558959960938,\n",
              "  11.51717758178711,\n",
              "  11.533987045288086,\n",
              "  11.562644004821777,\n",
              "  11.56580638885498]}"
            ]
          },
          "metadata": {},
          "execution_count": 128
        }
      ]
    },
    {
      "cell_type": "code",
      "metadata": {
        "colab": {
          "base_uri": "https://localhost:8080/"
        },
        "id": "aApaK6m1Wdwu",
        "outputId": "51976f9f-e5e7-4661-d331-6eec89467efb"
      },
      "source": [
        "#evaluate mean average error and predictions\n",
        "mae = model.evaluate(test_features, test_labels, verbose=0)\n",
        "\n",
        "mae \n"
      ],
      "execution_count": 129,
      "outputs": [
        {
          "output_type": "execute_result",
          "data": {
            "text/plain": [
              "10.926555633544922"
            ]
          },
          "metadata": {},
          "execution_count": 129
        }
      ]
    },
    {
      "cell_type": "code",
      "metadata": {
        "id": "YFwuGlCJXKoU"
      },
      "source": [
        "#create predictions\n",
        "test_predictions = model.predict(test_features)"
      ],
      "execution_count": 130,
      "outputs": []
    },
    {
      "cell_type": "code",
      "metadata": {
        "colab": {
          "base_uri": "https://localhost:8080/",
          "height": 283
        },
        "id": "izA-jAKhU4mD",
        "outputId": "da61c98e-dcc6-4a47-f3e9-79d6609ec2d9"
      },
      "source": [
        "a = plt.axes(aspect='equal')\n",
        "plt.scatter(test_labels.transpose()[0], test_predictions.transpose()[0])\n",
        "plt.xlabel('True Values [Math]')\n",
        "plt.ylabel('Predictions [Math]')\n",
        "lims = [0, 100]\n",
        "plt.xlim(lims)\n",
        "plt.ylim(lims)\n",
        "_ = plt.plot(lims, lims)"
      ],
      "execution_count": 131,
      "outputs": [
        {
          "output_type": "display_data",
          "data": {
            "image/png": "[encoded data removed]",
            "text/plain": [
              "<Figure size 432x288 with 1 Axes>"
            ]
          },
          "metadata": {
            "needs_background": "light"
          }
        }
      ]
    },
    {
      "cell_type": "code",
      "metadata": {
        "colab": {
          "base_uri": "https://localhost:8080/",
          "height": 283
        },
        "id": "wIVm5XcpXEhI",
        "outputId": "44e2687a-daf1-44c3-c1d0-b1274f3300eb"
      },
      "source": [
        "a = plt.axes(aspect='equal')\n",
        "plt.scatter(test_labels.transpose()[1], test_predictions.transpose()[1])\n",
        "plt.xlabel('True Values [Reading]')\n",
        "plt.ylabel('Predictions [Reading]')\n",
        "lims = [0, 100]\n",
        "plt.xlim(lims)\n",
        "plt.ylim(lims)\n",
        "_ = plt.plot(lims, lims)"
      ],
      "execution_count": 132,
      "outputs": [
        {
          "output_type": "display_data",
          "data": {
            "image/png": "[encoded data removed]",
            "text/plain": [
              "<Figure size 432x288 with 1 Axes>"
            ]
          },
          "metadata": {
            "needs_background": "light"
          }
        }
      ]
    },
    {
      "cell_type": "code",
      "metadata": {
        "colab": {
          "base_uri": "https://localhost:8080/",
          "height": 283
        },
        "id": "79VBJlClXEWI",
        "outputId": "06858ccf-240e-46ff-a552-dbaa2f3b5591"
      },
      "source": [
        "a = plt.axes(aspect='equal')\n",
        "plt.scatter(test_labels.transpose()[2], test_predictions.transpose()[2])\n",
        "plt.xlabel('True Values [Writing]')\n",
        "plt.ylabel('Predictions [Writing]')\n",
        "lims = [0, 100]\n",
        "plt.xlim(lims)\n",
        "plt.ylim(lims)\n",
        "_ = plt.plot(lims, lims)"
      ],
      "execution_count": 133,
      "outputs": [
        {
          "output_type": "display_data",
          "data": {
            "image/png": "[encoded data removed]",
            "text/plain": [
              "<Figure size 432x288 with 1 Axes>"
            ]
          },
          "metadata": {
            "needs_background": "light"
          }
        }
      ]
    }
  ]
}